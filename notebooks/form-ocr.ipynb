{
 "cells": [
  {
   "cell_type": "code",
   "execution_count": 1,
   "metadata": {},
   "outputs": [],
   "source": [
    "import os\n",
    "import cv2"
   ]
  },
  {
   "cell_type": "code",
   "execution_count": 2,
   "metadata": {},
   "outputs": [],
   "source": [
    "file_path = \"../data/data\""
   ]
  },
  {
   "cell_type": "code",
   "execution_count": 3,
   "metadata": {},
   "outputs": [],
   "source": [
    "# helpter function to os.path.join(directories)\n",
    "\n",
    "def listdir(*directories):\n",
    "    path = \"\"\n",
    "    for directory in directories:\n",
    "        path = os.path.join(path, directory)\n",
    "    return os.listdir(path)"
   ]
  },
  {
   "cell_type": "code",
   "execution_count": 4,
   "metadata": {},
   "outputs": [],
   "source": [
    "# we are only training for the first page, so we will remove all the other pages\n",
    "\n",
    "def filterFirstPage():\n",
    "    for folder in os.listdir(file_path):\n",
    "        for subfolder in os.listdir(os.path.join(file_path, folder)):\n",
    "            if subfolder != '.DS_Store':\n",
    "                for filename in os.listdir(os.path.join(file_path, folder, subfolder)):\n",
    "                    pattern = filename[len(filename)-6:len(filename)]\n",
    "                    patternMatch = pattern != '00.fmt' and pattern != '00.png'\n",
    "                    file = os.path.join(file_path, folder, subfolder, filename)\n",
    "                    if os.path.isfile(file) and patternMatch :\n",
    "                        os.remove(file)"
   ]
  },
  {
   "cell_type": "code",
   "execution_count": 37,
   "metadata": {},
   "outputs": [],
   "source": [
    "# check if all the train images are the same size, and how many images we have in total\n",
    "\n",
    "def getImageSizes(file_path):\n",
    "    sizes = set()\n",
    "    count = 0\n",
    "    for folder in listdir(file_path):\n",
    "        for subfolder in listdir(file_path, folder):\n",
    "            if subfolder != '.DS_Store':\n",
    "                for filename in listdir(file_path, folder, subfolder):\n",
    "                    if filename[len(filename)-3: len(filename)] == 'png':\n",
    "                        im = cv2.imread(os.path.join(file_path, folder, subfolder, filename))\n",
    "                        sizes.add(im.shape)\n",
    "                        count += 1\n",
    "    print(sizes)\n",
    "    print(count)"
   ]
  },
  {
   "cell_type": "code",
   "execution_count": 38,
   "metadata": {},
   "outputs": [
    {
     "name": "stdout",
     "output_type": "stream",
     "text": [
      "{(3300, 2560, 3)}\n",
      "900\n"
     ]
    }
   ],
   "source": [
    "getImageSizes(file_path)"
   ]
  },
  {
   "cell_type": "code",
   "execution_count": null,
   "metadata": {},
   "outputs": [],
   "source": [
    "# need to use a tool to annotate the images to mark where the section we want is in the image\n",
    "# after getting the coordinates of the section we want for each image, \n",
    "# then we can start training our first model to do predictions on creating boundaries within a form"
   ]
  }
 ],
 "metadata": {
  "interpreter": {
   "hash": "aee8b7b246df8f9039afb4144a1f6fd8d2ca17a180786b69acc140d282b71a49"
  },
  "kernelspec": {
   "display_name": "Python 3 (ipykernel)",
   "language": "python",
   "name": "python3"
  },
  "language_info": {
   "codemirror_mode": {
    "name": "ipython",
    "version": 3
   },
   "file_extension": ".py",
   "mimetype": "text/x-python",
   "name": "python",
   "nbconvert_exporter": "python",
   "pygments_lexer": "ipython3",
   "version": "3.9.6"
  }
 },
 "nbformat": 4,
 "nbformat_minor": 2
}
