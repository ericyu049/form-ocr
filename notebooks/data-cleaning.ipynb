{
 "cells": [
  {
   "cell_type": "code",
   "execution_count": 1,
   "metadata": {},
   "outputs": [],
   "source": [
    "import os\n",
    "import cv2\n",
    "import xml.etree.ElementTree as ET\n",
    "import numpy as np"
   ]
  },
  {
   "cell_type": "code",
   "execution_count": 2,
   "metadata": {},
   "outputs": [],
   "source": [
    "file_path = \"../data/data\""
   ]
  },
  {
   "cell_type": "code",
   "execution_count": 3,
   "metadata": {},
   "outputs": [],
   "source": [
    "# we are only training for the first page, so we will remove all the other pages\n",
    "def filterFirstPage():\n",
    "    for root, dirs, files in os.walk(file_path):\n",
    "        for file in files:\n",
    "            if not file.endswith('00.fmt') and not file.endswith('00.png') and not file.endswith('00.xml'):\n",
    "                os.remove(os.path.join(root, file))"
   ]
  },
  {
   "cell_type": "code",
   "execution_count": 4,
   "metadata": {},
   "outputs": [],
   "source": [
    "# check if all the train images are the same size, and how many images we have in total\n",
    "\n",
    "def getImageSizes(file_path):\n",
    "    sizes = set()\n",
    "    count = 0\n",
    "    \n",
    "    for root, dirs, files in os.walk(file_path):\n",
    "        for file in files:\n",
    "            if file.endswith('.png'):\n",
    "                im = cv2.imread(os.path.join(root, file))\n",
    "                sizes.add(im.shape)\n",
    "                count += 1\n",
    "    print(sizes)\n",
    "    print(count)"
   ]
  },
  {
   "cell_type": "code",
   "execution_count": 5,
   "metadata": {},
   "outputs": [
    {
     "name": "stdout",
     "output_type": "stream",
     "text": [
      "{(3300, 2560, 3)}\n",
      "900\n"
     ]
    }
   ],
   "source": [
    "getImageSizes(file_path)"
   ]
  },
  {
   "cell_type": "code",
   "execution_count": 6,
   "metadata": {},
   "outputs": [],
   "source": [
    "dataset = []\n",
    "\n",
    "def checkCoordinates(file_path):\n",
    "    for root, dirs, files in os.walk(file_path):\n",
    "        for file in files:\n",
    "            if file.endswith('.xml'):\n",
    "                tree = ET.parse(os.path.join(root, file))\n",
    "                data = createImageDict(tree.getroot())\n",
    "                dataset.append(data)"
   ]
  },
  {
   "cell_type": "code",
   "execution_count": 7,
   "metadata": {},
   "outputs": [],
   "source": [
    "def createImageDict(root):\n",
    "    # calculate the percentage from top left right bottom for each box:page\n",
    "    pageX_start = 0\n",
    "    pageX_end = int(root[4][0].text)\n",
    "    pageY_start = 0\n",
    "    pageY_end = int(root[4][1].text)\n",
    "    \n",
    "    width = int(root[4][0].text)\n",
    "    height = int(root[4][1].text)\n",
    "    \n",
    "    boxX_start = int(root[6][4][0].text)\n",
    "    boxY_start = int(root[6][4][1].text)\n",
    "    boxX_end = int(root[6][4][2].text)\n",
    "    boxY_end = int(root[6][4][3].text)\n",
    "    \n",
    "    \n",
    "    left = (boxX_start - pageX_start)/width\n",
    "    top = (boxY_start - pageY_start)/height\n",
    "    right = (pageX_end - boxX_end)/width\n",
    "    bottom = (pageY_end - boxY_end)/height\n",
    "    \n",
    "    \n",
    "    return {\n",
    "        \"left\": left,\n",
    "        \"right\": right,\n",
    "        \"top\": top,\n",
    "        \"bottom\": bottom\n",
    "    }\n",
    "    "
   ]
  },
  {
   "cell_type": "code",
   "execution_count": 8,
   "metadata": {},
   "outputs": [],
   "source": [
    "# check the range of each field in the dataset\n",
    "\n",
    "def checkRange():\n",
    "    num_fields = len(dataset[0])\n",
    "    data_array = np.array([[d[field] for field in dataset[0]] for d in dataset])\n",
    "\n",
    "    # Calculate the minimum and maximum values for each field\n",
    "    min_values = np.min(data_array, axis=0)\n",
    "    max_values = np.max(data_array, axis=0)\n",
    "\n",
    "    # Print the ranges for each field\n",
    "    for i, field in enumerate(dataset[0]):\n",
    "        print(f\"{field} range: {min_values[i]} to {max_values[i]}\")\n"
   ]
  },
  {
   "cell_type": "code",
   "execution_count": 9,
   "metadata": {},
   "outputs": [
    {
     "name": "stdout",
     "output_type": "stream",
     "text": [
      "899\n",
      "left range: 0.138671875 to 0.23671875\n",
      "right range: 0.19375 to 0.283984375\n",
      "top range: 0.04939393939393939 to 0.11\n",
      "bottom range: 0.7866666666666666 to 0.8366666666666667\n"
     ]
    }
   ],
   "source": [
    "checkCoordinates(file_path)\n",
    "print(len(dataset))\n",
    "checkRange()\n",
    "# Missing 580"
   ]
  }
 ],
 "metadata": {
  "interpreter": {
   "hash": "aee8b7b246df8f9039afb4144a1f6fd8d2ca17a180786b69acc140d282b71a49"
  },
  "kernelspec": {
   "display_name": "Python 3 (ipykernel)",
   "language": "python",
   "name": "python3"
  },
  "language_info": {
   "codemirror_mode": {
    "name": "ipython",
    "version": 3
   },
   "file_extension": ".py",
   "mimetype": "text/x-python",
   "name": "python",
   "nbconvert_exporter": "python",
   "pygments_lexer": "ipython3",
   "version": "3.11.4"
  }
 },
 "nbformat": 4,
 "nbformat_minor": 2
}
